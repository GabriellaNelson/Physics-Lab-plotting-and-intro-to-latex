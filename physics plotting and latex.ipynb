{
 "cells": [
  {
   "cell_type": "code",
   "execution_count": null,
   "id": "0a19c834",
   "metadata": {},
   "outputs": [],
   "source": [
    "# import numpy as np\n",
    "\n",
    "def fred(a,b):\n",
    "    c=(a+b)*12\n",
    "    return c \n",
    "\n",
    "a=13.2\n",
    "b=3.9\n",
    "c=fred(a,b)\n",
    "print(\"c=\",c)\n",
    "\n",
    "\n"
   ]
  },
  {
   "cell_type": "code",
   "execution_count": 7,
   "id": "f3eabdb6",
   "metadata": {},
   "outputs": [
    {
     "name": "stdout",
     "output_type": "stream",
     "text": [
      "2.5238858928247927\n"
     ]
    }
   ],
   "source": [
    "def rule3(dA,dB):\n",
    "    dQ=np.sqrt(dA**2+dB**2)\n",
    "    return dQ\n",
    "\n",
    "dA=1.4\n",
    "dB=2.1\n",
    "\n",
    "dQ=rule3(dA,dB)\n",
    "print(dQ)\n",
    "\n"
   ]
  },
  {
   "cell_type": "code",
   "execution_count": 10,
   "id": "6c25eba9",
   "metadata": {},
   "outputs": [
    {
     "name": "stdout",
     "output_type": "stream",
     "text": [
      "[3.   3.3  3.6  2.7  2.55]\n",
      "[ 9.     10.89   12.96    7.29    6.5025]\n",
      "1.01 0.05727128425310541\n"
     ]
    }
   ],
   "source": [
    "x=np.array([1,1.1,1.2,0.9,0.85])\n",
    "y=x*3\n",
    "print(y)\n",
    "ysq=y**2\n",
    "print(ysq)\n",
    "\n",
    "err_x=np.std(x)/np.sqrt(5)\n",
    "avgx=np.average(x)\n",
    "print(avgx,err_x)"
   ]
  },
  {
   "cell_type": "markdown",
   "id": "29c6667a",
   "metadata": {},
   "source": [
    "$\\delta F=g\\delta m$\n",
    "\n",
    "\n"
   ]
  },
  {
   "cell_type": "markdown",
   "id": "80793992",
   "metadata": {},
   "source": [
    "$\\delta Q= \\sqrt{(\\delta A)^2 +(\\delta B)^2}$\n"
   ]
  },
  {
   "cell_type": "markdown",
   "id": "74d932e6",
   "metadata": {},
   "source": [
    "$\\frac{\\delta A}{A}$"
   ]
  },
  {
   "cell_type": "markdown",
   "id": "85ef6698",
   "metadata": {},
   "source": [
    "#This is for the Assignment \n"
   ]
  },
  {
   "cell_type": "code",
   "execution_count": null,
   "id": "7caaf21e",
   "metadata": {},
   "outputs": [],
   "source": [
    "# import numpy as np\n",
    "\n",
    "def rule1(dA,c):\n",
    "    dQ=c*dA\n",
    "    return dQ/Q\n"
   ]
  },
  {
   "cell_type": "code",
   "execution_count": null,
   "id": "4592f0d3",
   "metadata": {},
   "outputs": [],
   "source": [
    "def rule2(c,m,A**(m-1),dA):\n",
    "    dQ=c*m*dA*A**(m-1)\n",
    "    return dQ"
   ]
  },
  {
   "cell_type": "code",
   "execution_count": null,
   "id": "387f662b",
   "metadata": {},
   "outputs": [],
   "source": [
    "def rule3(dA,dB):\n",
    "    dQ=np.sqrt(dA**2+dB**2)\n",
    "    return dQ"
   ]
  },
  {
   "cell_type": "code",
   "execution_count": 14,
   "id": "faf20616",
   "metadata": {},
   "outputs": [
    {
     "name": "stdout",
     "output_type": "stream",
     "text": [
      "0.008687120709581275\n"
     ]
    }
   ],
   "source": [
    "def rule4(Q,m,dA,A,n,dB,B):\n",
    "    dQ=Q*np.sqrt((((m*dA)/A)**2)+(((n*dB)/B)**2))\n",
    "    return dQ\n",
    "#Calculation of error in velocity from method 2\n",
    "Q=3.54\n",
    "dA=0.0039\n",
    "A=1.5906\n",
    "dB=0.0001\n",
    "B=0.989\n",
    "m=1\n",
    "n=1\n",
    "\n",
    "dQ=rule4(Q,m,dA,A,n,dB,B)\n",
    "print(dQ)\n",
    "\n"
   ]
  },
  {
   "cell_type": "markdown",
   "id": "5410deea",
   "metadata": {},
   "source": [
    "The uncertainty for method 2 in the lab was 0.009m/s, and the uncertainty for method 2 found here was 0.009m/s. I calculated the uncertainty in method two in the lab by hand. The uncertainty for method two calculated in the two ways are equivalent which makes me feel better about my answers in the lab report. "
   ]
  },
  {
   "cell_type": "code",
   "execution_count": 16,
   "id": "9f8d1865",
   "metadata": {},
   "outputs": [
    {
     "name": "stdout",
     "output_type": "stream",
     "text": [
      "1.1166666666666667 0.17950549357115014 0.073282810879294\n"
     ]
    }
   ],
   "source": [
    "x=np.array([1.1,1.3,1.4,0.9,0.95,1.05])\n",
    "avgx=np.average(x)\n",
    "stdx=np.std(x)\n",
    "err_x=np.std(x)/np.sqrt(6)\n",
    "\n",
    "\n",
    "print(avgx,stdx,err_x)"
   ]
  },
  {
   "cell_type": "markdown",
   "id": "1909c2b8",
   "metadata": {},
   "source": [
    "The mean of the x values is 1.1 and the standard deviation of the values is 0.2. The error in the mean of x is 0.07. "
   ]
  },
  {
   "cell_type": "markdown",
   "id": "c2932f1a",
   "metadata": {},
   "source": [
    "Rule 3\n",
    "$\\delta Q= \\sqrt{(\\delta A)^2 +(\\delta B)^2}$"
   ]
  },
  {
   "cell_type": "markdown",
   "id": "dad94807",
   "metadata": {},
   "source": [
    "Equation for $\\delta vi$ from method 2\n",
    "\n",
    "$\\delta vi=vi*\\sqrt{(\\frac{\\delta x}{x})^2+(\\frac{\\delta y}{y})^2}$"
   ]
  }
 ],
 "metadata": {
  "kernelspec": {
   "display_name": "Python 3 (ipykernel)",
   "language": "python",
   "name": "python3"
  },
  "language_info": {
   "codemirror_mode": {
    "name": "ipython",
    "version": 3
   },
   "file_extension": ".py",
   "mimetype": "text/x-python",
   "name": "python",
   "nbconvert_exporter": "python",
   "pygments_lexer": "ipython3",
   "version": "3.9.12"
  }
 },
 "nbformat": 4,
 "nbformat_minor": 5
}
